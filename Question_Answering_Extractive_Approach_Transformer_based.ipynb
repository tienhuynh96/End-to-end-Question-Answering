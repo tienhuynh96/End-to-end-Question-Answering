{
  "nbformat": 4,
  "nbformat_minor": 0,
  "metadata": {
    "colab": {
      "provenance": [],
      "toc_visible": true,
      "include_colab_link": true
    },
    "kernelspec": {
      "name": "python3",
      "display_name": "Python 3"
    },
    "language_info": {
      "name": "python"
    }
  },
  "cells": [
    {
      "cell_type": "markdown",
      "metadata": {
        "id": "view-in-github",
        "colab_type": "text"
      },
      "source": [
        "<a href=\"https://colab.research.google.com/github/tienhuynh96/End-to-end-Question-Answering/blob/main/Question_Answering_Extractive_Approach_Transformer_based.ipynb\" target=\"_parent\"><img src=\"https://colab.research.google.com/assets/colab-badge.svg\" alt=\"Open In Colab\"/></a>"
      ]
    },
    {
      "cell_type": "markdown",
      "source": [
        "# ***Question answering Extractive Approach with Transformer-based***\n",
        "\n",
        "input_text = 'CSL' + question + ' sep ' + context\n",
        "\n",
        "Backbone: Transformer"
      ],
      "metadata": {
        "id": "YS8ctbaGbieN"
      }
    },
    {
      "cell_type": "markdown",
      "source": [
        "## **1. Import libraries and create temp datasets**"
      ],
      "metadata": {
        "id": "5C8jXzW55vTV"
      }
    },
    {
      "cell_type": "code",
      "source": [
        "import numpy as np\n",
        "import torch\n",
        "import torch.nn as nn\n",
        "from torchtext.data.utils import get_tokenizer\n",
        "from torchtext.vocab import build_vocab_from_iterator\n",
        "from torch.nn.utils.rnn import pad_sequence\n",
        "from torch.utils.data import Dataset, DataLoader"
      ],
      "metadata": {
        "id": "4GAgtobPvWRz",
        "colab": {
          "base_uri": "https://localhost:8080/"
        },
        "outputId": "3ed0adfe-52f7-4b56-f8fd-9a0259c9bf57"
      },
      "execution_count": null,
      "outputs": [
        {
          "output_type": "stream",
          "name": "stderr",
          "text": [
            "/usr/local/lib/python3.10/dist-packages/torchtext/data/__init__.py:4: UserWarning: \n",
            "/!\\ IMPORTANT WARNING ABOUT TORCHTEXT STATUS /!\\ \n",
            "Torchtext is deprecated and the last released version will be 0.18 (this one). You can silence this warning by calling the following at the beginnign of your scripts: `import torchtext; torchtext.disable_torchtext_deprecation_warning()`\n",
            "  warnings.warn(torchtext._TORCHTEXT_DEPRECATION_MSG)\n",
            "/usr/local/lib/python3.10/dist-packages/torchtext/vocab/__init__.py:4: UserWarning: \n",
            "/!\\ IMPORTANT WARNING ABOUT TORCHTEXT STATUS /!\\ \n",
            "Torchtext is deprecated and the last released version will be 0.18 (this one). You can silence this warning by calling the following at the beginnign of your scripts: `import torchtext; torchtext.disable_torchtext_deprecation_warning()`\n",
            "  warnings.warn(torchtext._TORCHTEXT_DEPRECATION_MSG)\n",
            "/usr/local/lib/python3.10/dist-packages/torchtext/utils.py:4: UserWarning: \n",
            "/!\\ IMPORTANT WARNING ABOUT TORCHTEXT STATUS /!\\ \n",
            "Torchtext is deprecated and the last released version will be 0.18 (this one). You can silence this warning by calling the following at the beginnign of your scripts: `import torchtext; torchtext.disable_torchtext_deprecation_warning()`\n",
            "  warnings.warn(torchtext._TORCHTEXT_DEPRECATION_MSG)\n"
          ]
        }
      ]
    },
    {
      "cell_type": "code",
      "source": [
        "qa_dataset = [\n",
        "    {\n",
        "        'context': 'My name is AIVN and I am from Vietnam.',\n",
        "        'question': 'What is my name?',\n",
        "        'answer': 'AIVN'\n",
        "    },\n",
        "    {\n",
        "        'context': 'I love painting and my favorite artist is Vicent Van Gogh.',\n",
        "        'question': 'What is my favorite activity?',\n",
        "        'answer': 'painting'\n",
        "    },\n",
        "    {\n",
        "        'context': 'I am studying computer science at the University of Tokyo.',\n",
        "        'question': 'What am I Studying?',\n",
        "        'answer': 'computer science'\n",
        "    },\n",
        "    {\n",
        "        'context': 'My favorite book is \"To kill a Mockingbird\" by Harper Lee.',\n",
        "        'question': 'What is my favorite book?',\n",
        "        'answer': '\"To kill a Mockingbird\"'\n",
        "    },\n",
        "    {\n",
        "        'context': 'I have a pet dog named Max who loves to play fetch',\n",
        "        'question': 'What is the name of my pet?',\n",
        "        'answer': 'Max'\n",
        "    },\n",
        "    {\n",
        "        'context': 'I was born in Paris, but now I live in New york City',\n",
        "        'question': 'Where do I live now?',\n",
        "        'answer': 'New York City'\n",
        "    }\n",
        "    # {\n",
        "    #     'context': '',\n",
        "    #     'question': '',\n",
        "    #     'answer': ''\n",
        "    # },\n",
        "\n",
        "]\n",
        "\n",
        "data_size = len(qa_dataset)\n",
        "data_size"
      ],
      "metadata": {
        "colab": {
          "base_uri": "https://localhost:8080/"
        },
        "id": "yQnZjl0g05aD",
        "outputId": "6c68ffe2-4a57-4b97-a551-d8a9840e6926"
      },
      "execution_count": null,
      "outputs": [
        {
          "output_type": "execute_result",
          "data": {
            "text/plain": [
              "6"
            ]
          },
          "metadata": {},
          "execution_count": 4
        }
      ]
    },
    {
      "cell_type": "code",
      "source": [
        "np.shape(qa_dataset)"
      ],
      "metadata": {
        "colab": {
          "base_uri": "https://localhost:8080/"
        },
        "id": "-cBe6FiG4-h0",
        "outputId": "8bf910b5-dc88-4105-ca38-562e8136f534"
      },
      "execution_count": null,
      "outputs": [
        {
          "output_type": "execute_result",
          "data": {
            "text/plain": [
              "(6,)"
            ]
          },
          "metadata": {},
          "execution_count": 5
        }
      ]
    },
    {
      "cell_type": "markdown",
      "source": [
        "## **2. Build vocabulary**"
      ],
      "metadata": {
        "id": "eknboL3K4953"
      }
    },
    {
      "cell_type": "code",
      "source": [
        "# Incase the question is non answerable, we can label start and end positions at <cls> token\n",
        "# Define tokenizer function\n",
        "tokenizer = get_tokenizer('basic_english')\n",
        "\n",
        "# Create a function to yield list of tokens\n",
        "# This yield function is required in function \"build_vocab_from_iterator\"\n",
        "# Get data from item context and question in data\n",
        "def yield_tokens(data):\n",
        "  for item in data:\n",
        "    yield tokenizer('<cls> ' + item['context'] + ' <sep> ' + item['question'])\n",
        "\n",
        "# Create vocabulary\n",
        "vocab = build_vocab_from_iterator(\n",
        "    yield_tokens(qa_dataset),\n",
        "    specials = ['<unk>','<pad>','<bos>','<eos>','<sep>','<cls>']\n",
        ")\n",
        "\n",
        "# Set default index for this vocab is 'unk' = 0, when the unknow word is replace the 'unk'\n",
        "vocab.set_default_index(vocab['<unk>'])\n",
        "# Build vocab (stoi mean string to index)\n",
        "vocab.get_stoi()\n"
      ],
      "metadata": {
        "colab": {
          "base_uri": "https://localhost:8080/"
        },
        "collapsed": true,
        "id": "Lx7PjY5f05RQ",
        "outputId": "73f41a78-4d76-48db-992e-3df40aeb265b"
      },
      "execution_count": null,
      "outputs": [
        {
          "output_type": "execute_result",
          "data": {
            "text/plain": [
              "{'vietnam': 59,\n",
              " 'activity': 27,\n",
              " 'to': 25,\n",
              " ',': 26,\n",
              " 'pet': 22,\n",
              " 'who': 62,\n",
              " 'gogh': 40,\n",
              " 'the': 24,\n",
              " 'fetch': 38,\n",
              " 'play': 53,\n",
              " 'van': 57,\n",
              " 'now': 20,\n",
              " 'was': 60,\n",
              " 'a': 15,\n",
              " 'name': 14,\n",
              " 'am': 13,\n",
              " 'named': 49,\n",
              " 'aivn': 28,\n",
              " 'i': 6,\n",
              " 'studying': 23,\n",
              " 'and': 16,\n",
              " 'where': 61,\n",
              " '<unk>': 0,\n",
              " 'favorite': 12,\n",
              " 'by': 33,\n",
              " 'artist': 29,\n",
              " 'live': 19,\n",
              " '<eos>': 3,\n",
              " 'harper': 41,\n",
              " 'dog': 37,\n",
              " 'loves': 46,\n",
              " '.': 11,\n",
              " 'born': 31,\n",
              " '<pad>': 1,\n",
              " 'computer': 35,\n",
              " '<cls>': 5,\n",
              " 'is': 7,\n",
              " 'my': 8,\n",
              " 'book': 17,\n",
              " 'science': 54,\n",
              " 'of': 21,\n",
              " '<bos>': 2,\n",
              " '<sep>': 4,\n",
              " 'what': 10,\n",
              " 'at': 30,\n",
              " 'but': 32,\n",
              " 'in': 18,\n",
              " 'from': 39,\n",
              " 'tokyo': 55,\n",
              " 'city': 34,\n",
              " 'vicent': 58,\n",
              " 'have': 42,\n",
              " 'kill': 43,\n",
              " 'lee': 44,\n",
              " 'love': 45,\n",
              " '?': 9,\n",
              " 'do': 36,\n",
              " 'max': 47,\n",
              " 'mockingbird': 48,\n",
              " 'york': 63,\n",
              " 'new': 50,\n",
              " 'painting': 51,\n",
              " 'paris': 52,\n",
              " 'university': 56}"
            ]
          },
          "metadata": {},
          "execution_count": 8
        }
      ]
    },
    {
      "cell_type": "code",
      "source": [
        "# Check\n",
        "# Define tokenizer function\n",
        "tokenizer = get_tokenizer('basic_english')\n",
        "\n",
        "text = 'I love AIVN'\n",
        "tokens = tokenizer(text)\n",
        "tokens = [vocab[token] for token in tokens]\n",
        "print(tokens)"
      ],
      "metadata": {
        "colab": {
          "base_uri": "https://localhost:8080/"
        },
        "id": "4T_3gVuW8o8N",
        "outputId": "04b3deb5-365a-4038-b5cd-3252ae9b8f18"
      },
      "execution_count": null,
      "outputs": [
        {
          "output_type": "stream",
          "name": "stdout",
          "text": [
            "[6, 45, 28]\n"
          ]
        }
      ]
    },
    {
      "cell_type": "markdown",
      "source": [
        "## **3. Create vectorize function**"
      ],
      "metadata": {
        "id": "9bL-nt5cdGXv"
      }
    },
    {
      "cell_type": "code",
      "source": [
        "# Pad an truncate\n",
        "MAX_SEQ_LENGTH = 22\n",
        "PAD_IDX = vocab['<pad>']\n",
        "\n",
        "# define pad and truncate function\n",
        "def pad_and_truncate(input_ids, max_seq_len):\n",
        "  if len(input_ids) > max_seq_len:\n",
        "    input_ids = input_ids[:max_seq_len]\n",
        "  elif len(input_ids) < max_seq_len:\n",
        "    input_ids += [PAD_IDX] * (max_seq_len - len(input_ids))\n",
        "\n",
        "  return input_ids"
      ],
      "metadata": {
        "id": "Im8xAlhH05Ok"
      },
      "execution_count": null,
      "outputs": []
    },
    {
      "cell_type": "code",
      "source": [
        "# Check\n",
        "# Pad an truncate\n",
        "MAX_SEQ_LENGTH = 22\n",
        "PAD_IDX = vocab['<pad>']\n",
        "\n",
        "text = 'I love AIVN'\n",
        "tokens = tokenizer(text)\n",
        "tokens = [vocab[token] for token in tokens]\n",
        "print(tokens)\n",
        "padded_tokens = pad_and_truncate(tokens, MAX_SEQ_LENGTH)\n",
        "print(padded_tokens)\n"
      ],
      "metadata": {
        "colab": {
          "base_uri": "https://localhost:8080/"
        },
        "id": "jLR0YIn4Aah_",
        "outputId": "e3e731d9-9f39-4785-b30f-0901f1cf7bed"
      },
      "execution_count": null,
      "outputs": [
        {
          "output_type": "stream",
          "name": "stdout",
          "text": [
            "[6, 45, 28]\n",
            "[6, 45, 28, 1, 1, 1, 1, 1, 1, 1, 1, 1, 1, 1, 1, 1, 1, 1, 1, 1, 1, 1]\n"
          ]
        }
      ]
    },
    {
      "cell_type": "code",
      "source": [
        "# Define vectorize function\n",
        "def vectorize(question, context, answer):\n",
        "  # input text  = cls + question + sep + context\n",
        "  input_text = '<cls> ' + question + ' <sep> ' + context\n",
        "  # Convert input to ids\n",
        "  input_ids = [vocab[token] for token in tokenizer(input_text)]\n",
        "  # pad and truncate input ids\n",
        "  input_ids = pad_and_truncate(input_ids, MAX_SEQ_LENGTH)\n",
        "\n",
        "  answer_ids = [vocab[token] for token in tokenizer(answer)]\n",
        "  # Find the start position of answer in input text\n",
        "  start_positions = input_ids.index(answer_ids[0])\n",
        "  # Calculate the end position of answer in input text\n",
        "  end_positions = start_positions + len(answer_ids) - 1\n",
        "\n",
        "  # Convert data to tensor\n",
        "  input_ids = torch.tensor(input_ids, dtype = torch.long)\n",
        "  start_positions = torch.tensor(start_positions, dtype = torch.long)\n",
        "  end_positions = torch.tensor(end_positions, dtype = torch.long)\n",
        "\n",
        "  return input_ids, start_positions, end_positions\n",
        "\n"
      ],
      "metadata": {
        "id": "1FbItdwuAae_"
      },
      "execution_count": null,
      "outputs": []
    },
    {
      "cell_type": "code",
      "source": [
        "#  Check function\n",
        "MAX_SEQ_LENGTH = 22\n",
        "input_ids, start_positions, end_positions  = vectorize(\n",
        "    qa_dataset[0]['question'],\n",
        "    qa_dataset[0]['context'],\n",
        "    qa_dataset[0]['answer']\n",
        ")\n",
        "\n",
        "print(input_ids)\n",
        "print(start_positions)\n",
        "print(end_positions)"
      ],
      "metadata": {
        "colab": {
          "base_uri": "https://localhost:8080/"
        },
        "id": "Z9vAHd1ZzG7H",
        "outputId": "0c47b059-4d67-4f8e-d9ac-cba039f92a98"
      },
      "execution_count": null,
      "outputs": [
        {
          "output_type": "stream",
          "name": "stdout",
          "text": [
            "tensor([ 5, 10,  7,  8, 14,  9,  4,  8, 14,  7, 28, 16,  6, 13, 39, 59, 11,  1,\n",
            "         1,  1,  1,  1])\n",
            "tensor(10)\n",
            "tensor(10)\n"
          ]
        }
      ]
    },
    {
      "cell_type": "markdown",
      "source": [
        "## **4. Create datasets**"
      ],
      "metadata": {
        "id": "gehgPajV0bkw"
      }
    },
    {
      "cell_type": "code",
      "source": [
        "class QADataset(Dataset):\n",
        "  def __init__(self,data):\n",
        "    self.data = data\n",
        "\n",
        "  def __len__(self):\n",
        "    return len(self.data)\n",
        "\n",
        "  def __getitem__(self,idx):\n",
        "    item = self.data[idx]\n",
        "    question_text = item['question']\n",
        "    context_text = item['context']\n",
        "    answer_text = item['answer']\n",
        "\n",
        "    input_ids, start_positions, end_positions = vectorize(question_text, context_text, answer_text)\n",
        "\n",
        "    return   input_ids, start_positions, end_positions\n"
      ],
      "metadata": {
        "id": "OSfGuItGAacY"
      },
      "execution_count": null,
      "outputs": []
    },
    {
      "cell_type": "code",
      "source": [
        "# Decode\n",
        "# Define decode function: convert id to token\n",
        "def decode(input_ids):\n",
        "  return ' '.join([vocab.lookup_token(token) for token in input_ids])"
      ],
      "metadata": {
        "id": "orMbBrZW05L9"
      },
      "execution_count": null,
      "outputs": []
    },
    {
      "cell_type": "code",
      "source": [
        "train_dataset = QADataset(qa_dataset)\n",
        "train_loader = DataLoader(train_dataset, batch_size = 2, shuffle=True)"
      ],
      "metadata": {
        "id": "YIvsl5cV2ofs"
      },
      "execution_count": null,
      "outputs": []
    },
    {
      "cell_type": "code",
      "source": [
        "next(iter(train_loader))"
      ],
      "metadata": {
        "colab": {
          "base_uri": "https://localhost:8080/"
        },
        "id": "LOrkC6mf2oaY",
        "outputId": "a28b5c2f-8093-4d8d-a1bf-998cbee04066"
      },
      "execution_count": null,
      "outputs": [
        {
          "output_type": "execute_result",
          "data": {
            "text/plain": [
              "[tensor([[ 5, 61, 36,  6, 19, 20,  9,  4,  6, 60, 31, 18, 52, 26, 32, 20,  6, 19,\n",
              "          18, 50, 63, 34],\n",
              "         [ 5, 10,  7,  8, 12, 27,  9,  4,  6, 45, 51, 16,  8, 12, 29,  7, 58, 57,\n",
              "          40, 11,  1,  1]]),\n",
              " tensor([19, 10]),\n",
              " tensor([21, 10])]"
            ]
          },
          "metadata": {},
          "execution_count": 17
        }
      ]
    },
    {
      "cell_type": "code",
      "source": [
        "decode(next(iter(train_loader))[0][0])\n"
      ],
      "metadata": {
        "colab": {
          "base_uri": "https://localhost:8080/",
          "height": 36
        },
        "id": "TcopPHWxguzQ",
        "outputId": "160859e4-1f42-4f7a-c528-f4ee3872e83c"
      },
      "execution_count": null,
      "outputs": [
        {
          "output_type": "execute_result",
          "data": {
            "text/plain": [
              "'<cls> what is my favorite book ? <sep> my favorite book is to kill a mockingbird by harper lee . <pad> <pad>'"
            ],
            "application/vnd.google.colaboratory.intrinsic+json": {
              "type": "string"
            }
          },
          "metadata": {},
          "execution_count": 18
        }
      ]
    },
    {
      "cell_type": "code",
      "source": [
        "\n",
        "for batch in train_loader:\n",
        "  input_ids, start_positions, end_positions = batch\n",
        "  print (f'{decode(input_ids[1])} \\n {input_ids[1]} \\n {start_positions[1]} \\n  {end_positions[1]} \\n')\n",
        "  answer = ' '.join(decode(input_ids[1]).split()[start_positions[1]: end_positions[1]+1])\n",
        "  print(answer)\n",
        "\n",
        "\n",
        "    #   context_tokens = tokenizer(context)\n",
        "    # predicted_answer_tokens = context[start_position: end_position + 1]\n",
        "    # predicted_answer = ' '.join(predicted_answer_tokens)"
      ],
      "metadata": {
        "colab": {
          "base_uri": "https://localhost:8080/"
        },
        "id": "Wx7U2EeVhzjB",
        "outputId": "8b1af9a6-6356-4d4e-b396-1476d9c0aabf"
      },
      "execution_count": null,
      "outputs": [
        {
          "output_type": "stream",
          "name": "stdout",
          "text": [
            "<cls> what is my favorite book ? <sep> my favorite book is to kill a mockingbird by harper lee . <pad> <pad> \n",
            " tensor([ 5, 10,  7,  8, 12, 17,  9,  4,  8, 12, 17,  7, 25, 43, 15, 48, 33, 41,\n",
            "        44, 11,  1,  1]) \n",
            " 12 \n",
            "  15 \n",
            "\n",
            "to kill a mockingbird\n",
            "<cls> what am i studying ? <sep> i am studying computer science at the university of tokyo . <pad> <pad> <pad> <pad> \n",
            " tensor([ 5, 10, 13,  6, 23,  9,  4,  6, 13, 23, 35, 54, 30, 24, 56, 21, 55, 11,\n",
            "         1,  1,  1,  1]) \n",
            " 10 \n",
            "  11 \n",
            "\n",
            "computer science\n",
            "<cls> what is my name ? <sep> my name is aivn and i am from vietnam . <pad> <pad> <pad> <pad> <pad> \n",
            " tensor([ 5, 10,  7,  8, 14,  9,  4,  8, 14,  7, 28, 16,  6, 13, 39, 59, 11,  1,\n",
            "         1,  1,  1,  1]) \n",
            " 10 \n",
            "  10 \n",
            "\n",
            "aivn\n"
          ]
        }
      ]
    },
    {
      "cell_type": "markdown",
      "source": [
        "## **5. Create models**"
      ],
      "metadata": {
        "id": "BZbi1dL43n-L"
      }
    },
    {
      "cell_type": "markdown",
      "source": [
        "### 5.1 Build Transformer block"
      ],
      "metadata": {
        "id": "HCWiQHzUldZA"
      }
    },
    {
      "cell_type": "markdown",
      "source": [
        "![image.png](data:image/png;base64,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)"
      ],
      "metadata": {
        "id": "E-amXJjzk6L_"
      }
    },
    {
      "cell_type": "code",
      "source": [
        "# Build Transformer block\n",
        "import math\n",
        "import torch.nn as nn\n",
        "import torch.optim as optim\n",
        "\n",
        "class TransformerBlock(nn.Module):\n",
        "  def __init__(self, embed_dim, num_heads, ff_dim):\n",
        "    super().__init__()\n",
        "    # Layer attention\n",
        "    self.attn = nn.MultiheadAttention(embed_dim=embed_dim, num_heads=num_heads)\n",
        "    # Layer feed forward\n",
        "    self.ffn = nn.Linear(in_features=embed_dim, out_features=ff_dim)\n",
        "    # Layer normalization 1\n",
        "    self.layernorm_1 = nn.LayerNorm(normalized_shape=embed_dim)\n",
        "    # Layer normalization 2\n",
        "    self.layernorm_2 = nn.LayerNorm(normalized_shape=embed_dim)\n",
        "\n",
        "  def forward(self, query, key, value):\n",
        "    # Compute attetion step\n",
        "    attn_output, _ = self.attn(query, key, value)\n",
        "    # compute add and normalization 1\n",
        "    out_1 = self.layernorm_1(query + attn_output)\n",
        "    # compute feed forward\n",
        "    ffn_output = self.ffn(out_1)\n",
        "    # compute add and normalization 2\n",
        "    x = self.layernorm_2(out_1 + ffn_output)\n",
        "\n",
        "    return x"
      ],
      "metadata": {
        "id": "WzOC42gakTzy"
      },
      "execution_count": null,
      "outputs": []
    },
    {
      "cell_type": "markdown",
      "source": [
        "### 5.2 Build Positional encoding"
      ],
      "metadata": {
        "id": "8ZTPOJdjoZwq"
      }
    },
    {
      "cell_type": "code",
      "source": [
        "class PositionalEncoding(nn.Module):\n",
        "  def __init__(self, d_model, max_len=5000):\n",
        "    super(PositionalEncoding, self).__init__()\n",
        "    pe = torch.zeros(max_len, d_model)\n",
        "    position = torch.arange(0, max_len, dtype=torch.float).unsqueeze(1)\n",
        "    div_term = torch.exp(torch.arange(0, d_model, 2).float() * (-math.log(10000.0) / d_model))\n",
        "    pe[:,0::2] = torch.sin(position * div_term)\n",
        "    pe[:,1::2] = torch.cos(position * div_term)\n",
        "    pe = pe.unsqueeze(0).transpose(0, 1)\n",
        "    self.register_buffer('pe',pe)\n",
        "\n",
        "  def forward(self, x):\n",
        "    x = x + self.pe[:x.size(0), :]\n",
        "    return x"
      ],
      "metadata": {
        "id": "GDbFAsoloZjl"
      },
      "execution_count": null,
      "outputs": []
    },
    {
      "cell_type": "markdown",
      "source": [
        "### 5.2 Create model"
      ],
      "metadata": {
        "id": "esSMSbXErhEa"
      }
    },
    {
      "cell_type": "code",
      "source": [
        "# This model use Transformer\n",
        "class QAModel(nn.Module):\n",
        "  def __init__(self, vocab_size, embedding_dim, n_heads, ff_dim, max_len):\n",
        "    super(QAModel, self).__init__()\n",
        "\n",
        "    # Get embedding for input\n",
        "    self.input_embedding = nn.Embedding(vocab_size, embedding_dim)\n",
        "    # Get position\n",
        "    self.pos_encoder = PositionalEncoding(embedding_dim, max_len)\n",
        "    # Tranformer\n",
        "    self.transformer = TransformerBlock(embedding_dim, n_heads, ff_dim)\n",
        "\n",
        "    self.start_linear = nn.Linear(ff_dim, 1)\n",
        "    self.end_linear = nn.Linear(ff_dim, 1)\n",
        "\n",
        "  def forward(self, text):\n",
        "    input_embedded = self.input_embedding(text)\n",
        "    input_embedded = self.pos_encoder(input_embedded)\n",
        "\n",
        "    transformer_out = self.transformer(input_embedded, input_embedded, input_embedded) #(output: bs, seq_len, hidden_units)\n",
        "\n",
        "    # squeeze(-1) is removes the singleton dimension at the last position of the tensor\n",
        "    # Logits (bs, 22, 1) => (bs, 22)\n",
        "    start_logits = self.start_linear(transformer_out).squeeze(-1)\n",
        "    end_logits = self.end_linear(transformer_out).squeeze(-1)\n",
        "\n",
        "    return start_logits, end_logits\n",
        "\n",
        "\n"
      ],
      "metadata": {
        "id": "5CkuZ4FP2oS-"
      },
      "execution_count": null,
      "outputs": []
    },
    {
      "cell_type": "code",
      "source": [
        "# Model parameters\n",
        "EMBEDDING_DIM = 128\n",
        "FF_DIM = 128\n",
        "N_HEADS = 1\n",
        "VOCAB_SIZE = len(vocab)\n",
        "MAX_SEQ_LENGTH = 512\n",
        "\n",
        "model = QAModel(VOCAB_SIZE, EMBEDDING_DIM, N_HEADS, FF_DIM, MAX_SEQ_LENGTH)\n",
        "\n",
        "input = torch.randint(0, 10, size=(1, 10)) # (size = 1, 10 =>  batch, sequence length)\n",
        "print(input.shape)\n",
        "\n",
        "model.eval()\n",
        "with torch.no_grad():\n",
        "  start_logits, end_logits = model(input)\n",
        "\n",
        "print(start_logits.shape)"
      ],
      "metadata": {
        "id": "02I12tR_A5Fd",
        "colab": {
          "base_uri": "https://localhost:8080/"
        },
        "outputId": "3279c598-c2bf-4e77-cd70-586f17a4fda7"
      },
      "execution_count": null,
      "outputs": [
        {
          "output_type": "stream",
          "name": "stdout",
          "text": [
            "torch.Size([1, 10])\n",
            "torch.Size([1, 10])\n"
          ]
        }
      ]
    },
    {
      "cell_type": "code",
      "source": [],
      "metadata": {
        "id": "3vkwbmFoA498"
      },
      "execution_count": null,
      "outputs": []
    },
    {
      "cell_type": "markdown",
      "source": [
        "## **6. Training models**"
      ],
      "metadata": {
        "id": "-kt0WOaMATJU"
      }
    },
    {
      "cell_type": "code",
      "source": [
        "LR = 1e-3\n",
        "EPOCHS = 10\n",
        "optimizer = torch.optim.Adam(model.parameters(), lr=LR)\n",
        "criterion = nn.CrossEntropyLoss()"
      ],
      "metadata": {
        "id": "SX9ym2Ujp_nf"
      },
      "execution_count": null,
      "outputs": []
    },
    {
      "cell_type": "code",
      "source": [
        "\n",
        "model.train()\n",
        "for _ in range(EPOCHS):\n",
        "  for idx, (input_ids, start_positions, end_positions) in enumerate(train_loader):\n",
        "    optimizer.zero_grad()\n",
        "\n",
        "    start_logits, end_logits = model(input_ids)\n",
        "\n",
        "    start_loss = criterion(start_logits, start_positions)\n",
        "    end_loss = criterion(end_logits, end_positions)\n",
        "    total_loss = (start_loss + end_loss) / 2\n",
        "\n",
        "    total_loss.backward()\n",
        "    optimizer.step()\n",
        "    print(total_loss.item())"
      ],
      "metadata": {
        "colab": {
          "base_uri": "https://localhost:8080/"
        },
        "id": "KfuG8ILK6ta2",
        "outputId": "d846d055-fa7c-4c77-9f0d-333db4b41bd7"
      },
      "execution_count": null,
      "outputs": [
        {
          "output_type": "stream",
          "name": "stdout",
          "text": [
            "5.876789093017578\n",
            "5.467010498046875\n",
            "5.259274482727051\n",
            "4.723761558532715\n",
            "4.018237590789795\n",
            "3.192580223083496\n",
            "3.414458751678467\n",
            "2.571345329284668\n",
            "2.6795287132263184\n",
            "2.4022693634033203\n",
            "2.1930203437805176\n",
            "1.74578857421875\n",
            "2.1870696544647217\n",
            "1.6793185472488403\n",
            "1.9749078750610352\n",
            "1.3018386363983154\n",
            "1.2045364379882812\n",
            "2.485515832901001\n",
            "0.803119421005249\n",
            "0.7641465663909912\n",
            "2.039639949798584\n",
            "1.1034725904464722\n",
            "0.48083218932151794\n",
            "0.4340265989303589\n",
            "0.7860057353973389\n",
            "0.6795660257339478\n",
            "0.29288244247436523\n",
            "0.2008947730064392\n",
            "0.27200186252593994\n",
            "0.06398237496614456\n"
          ]
        }
      ]
    },
    {
      "cell_type": "markdown",
      "source": [
        "## **7. Test**"
      ],
      "metadata": {
        "id": "cCuwXzI5BdVC"
      }
    },
    {
      "cell_type": "code",
      "source": [
        "model.eval()\n",
        "with torch.no_grad():\n",
        "  sample = qa_dataset[2]\n",
        "  context, question, answer = sample.values()\n",
        "  input_ids, start_positions, end_positions = vectorize(question, context, answer)\n",
        "\n",
        "  # Add batch\n",
        "  input_ids = input_ids.unsqueeze(0)\n",
        "\n",
        "  # Compute start and eng logits\n",
        "  start_logits, end_logits = model(input_ids)\n",
        "\n",
        "  # Compute offset is number tokens of question and <sep>\n",
        "  offset = len(tokenizer(question)) + 2\n",
        "  start_position = torch.argmax(start_logits, dim=1).numpy()[0]\n",
        "  end_position = torch.argmax(end_logits, dim=1).numpy()[0]\n",
        "\n",
        "  # minus to offset\n",
        "  start_position -=offset\n",
        "  end_position -=offset\n",
        "\n",
        "  # set condition to start and end position\n",
        "  start_position = max(start_position, 0)\n",
        "  end_position = min(end_position, len(tokenizer(context)) - 1)\n",
        "\n",
        "  # Check start and position\n",
        "  if end_position >= start_position:\n",
        "    # Extract the predicted answer span\n",
        "    context_tokens = tokenizer(context)\n",
        "    predicted_answer_tokens = context_tokens[start_position: end_position + 1]\n",
        "    predicted_answer = ' '.join(predicted_answer_tokens)\n",
        "\n",
        "  else:\n",
        "    predicted_answer = ' '\n",
        "\n",
        "  print(f'Context: {context}')\n",
        "  print(f'Question: {question}')\n",
        "  print(f'Start position: {start_position}')\n",
        "  print(f'End position: {end_position}')\n",
        "  print(f'Prediction: {predicted_answer}')"
      ],
      "metadata": {
        "colab": {
          "base_uri": "https://localhost:8080/"
        },
        "id": "0yDGCdVP6tYY",
        "outputId": "1219f41e-742e-4ecb-982c-266f0aea9d79"
      },
      "execution_count": null,
      "outputs": [
        {
          "output_type": "stream",
          "name": "stdout",
          "text": [
            "Context: I am studying computer science at the University of Tokyo.\n",
            "Question: What am I Studying?\n",
            "Start position: 3\n",
            "End position: 4\n",
            "Prediction: computer science\n"
          ]
        }
      ]
    },
    {
      "cell_type": "code",
      "source": [
        "# Set device\n",
        "device = torch.device(\"cuda\" if torch.cuda.is_available() else \"cpu\")\n",
        "device"
      ],
      "metadata": {
        "id": "rHRAhmqO6tTE",
        "colab": {
          "base_uri": "https://localhost:8080/"
        },
        "outputId": "951921c5-9bc4-4ef8-b324-ed0166f51b64"
      },
      "execution_count": null,
      "outputs": [
        {
          "output_type": "execute_result",
          "data": {
            "text/plain": [
              "device(type='cpu')"
            ]
          },
          "metadata": {},
          "execution_count": 38
        }
      ]
    },
    {
      "cell_type": "code",
      "source": [
        "model"
      ],
      "metadata": {
        "id": "392EEkxe6tQe",
        "colab": {
          "base_uri": "https://localhost:8080/"
        },
        "outputId": "7a987bbd-ccdf-423f-d1f9-5624febffe62"
      },
      "execution_count": null,
      "outputs": [
        {
          "output_type": "execute_result",
          "data": {
            "text/plain": [
              "QAModel(\n",
              "  (input_embedding): Embedding(64, 128)\n",
              "  (pos_encoder): PositionalEncoding()\n",
              "  (transformer): TransformerBlock(\n",
              "    (attn): MultiheadAttention(\n",
              "      (out_proj): NonDynamicallyQuantizableLinear(in_features=128, out_features=128, bias=True)\n",
              "    )\n",
              "    (ffn): Linear(in_features=128, out_features=128, bias=True)\n",
              "    (layernorm_1): LayerNorm((128,), eps=1e-05, elementwise_affine=True)\n",
              "    (layernorm_2): LayerNorm((128,), eps=1e-05, elementwise_affine=True)\n",
              "  )\n",
              "  (start_linear): Linear(in_features=128, out_features=1, bias=True)\n",
              "  (end_linear): Linear(in_features=128, out_features=1, bias=True)\n",
              ")"
            ]
          },
          "metadata": {},
          "execution_count": 40
        }
      ]
    }
  ]
}